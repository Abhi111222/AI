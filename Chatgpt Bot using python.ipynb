{
 "cells": [
  {
   "cell_type": "markdown",
   "id": "e2b565e6",
   "metadata": {},
   "source": [
    "## Building a Negotiation Chatbot API Using Python and ChatGPT"
   ]
  },
  {
   "cell_type": "code",
   "execution_count": null,
   "id": "5b08878e",
   "metadata": {},
   "outputs": [],
   "source": [
    "!pip install openai \n"
   ]
  },
  {
   "cell_type": "code",
   "execution_count": 2,
   "id": "0d1de7c8",
   "metadata": {},
   "outputs": [],
   "source": [
    "import openai\n",
    "import random\n"
   ]
  },
  {
   "cell_type": "code",
   "execution_count": 1,
   "id": "7ab34fcb",
   "metadata": {
    "scrolled": true
   },
   "outputs": [
    {
     "name": "stdout",
     "output_type": "stream",
     "text": [
      "Chatbot says: Error: You exceeded your current quota, please check your plan and billing details. For more information on this error, read the docs: https://platform.openai.com/docs/guides/error-codes/api-errors.\n",
      "Negotiation result: Offer rejected. Best price we can offer is $100.00.\n"
     ]
    }
   ],
   "source": [
    "# Import necessary libraries\n",
    "import openai\n",
    "\n",
    "# Set up your OpenAI API key (replace 'your-api-key' with your actual key)\n",
    "\n",
    "openai.api_key = 'sk-JNoApB4CmVwT3OWeUaLGqGL_bs1lTGZ4U_Mwmhp1MWT3BlbkFJy_8a06aSBmUK1i1JZqKFhlZ4CKyJsBrBkYXFMQ44sA'\n",
    "\n",
    "\n",
    "# Function to interact with OpenAI API to get chatbot responses\n",
    "def get_chatbot_response(prompt):\n",
    "    try:\n",
    "        response = openai.ChatCompletion.create(\n",
    "            model=\"gpt-3.5-turbo\",  # Use GPT-3.5-turbo or GPT-4\n",
    "            messages=[\n",
    "                {\"role\": \"system\", \"content\": \"You are a negotiation assistant.\"},\n",
    "                {\"role\": \"user\", \"content\": prompt}\n",
    "            ],\n",
    "            max_tokens=150\n",
    "        )\n",
    "        return response['choices'][0]['message']['content'].strip()\n",
    "    except Exception as e:\n",
    "        return f\"Error: {e}\"\n",
    "\n",
    "# Function to handle price negotiation\n",
    "def negotiate_price(user_offer, current_price):\n",
    "    # Logic for negotiation\n",
    "    if user_offer >= current_price:\n",
    "        return \"Deal accepted!\"\n",
    "    elif user_offer >= current_price * 0.9:\n",
    "        return f\"Counteroffer: We can accept ${current_price * 0.95:.2f}.\"\n",
    "    else:\n",
    "        return f\"Offer rejected. Best price we can offer is ${current_price:.2f}.\"\n",
    "\n",
    "# Function to simulate the chatbot negotiation\n",
    "def chatbot_negotiation(user_offer, current_price):\n",
    "    # Get the chatbot's initial message\n",
    "    ai_prompt = \"The user is negotiating the price of a product. Let's start the negotiation.\"\n",
    "    chatbot_response = get_chatbot_response(ai_prompt)\n",
    "    \n",
    "    # Perform negotiation logic\n",
    "    negotiation_result = negotiate_price(user_offer, current_price)\n",
    "    \n",
    "    return {\n",
    "        \"chatbot_response\": chatbot_response,\n",
    "        \"negotiation_result\": negotiation_result\n",
    "    }\n",
    "\n",
    "# Example use-case: User offers a price\n",
    "current_price = 100  # Set an initial product price\n",
    "user_offer = 85  # Example user offer\n",
    "\n",
    "# Run the negotiation process\n",
    "result = chatbot_negotiation(user_offer, current_price)\n",
    "\n",
    "# Print the chatbot's response and negotiation outcome\n",
    "print(\"Chatbot says:\", result[\"chatbot_response\"])\n",
    "print(\"Negotiation result:\", result[\"negotiation_result\"])\n"
   ]
  },
  {
   "cell_type": "markdown",
   "id": "24969764",
   "metadata": {},
   "source": [
    "## Sentiment Analysis"
   ]
  },
  {
   "cell_type": "code",
   "execution_count": 10,
   "id": "8cadc7ad",
   "metadata": {},
   "outputs": [
    {
     "name": "stdout",
     "output_type": "stream",
     "text": [
      "Chatbot says: Let's negotiate the price for a product.\n",
      "Final price offered: 100\n"
     ]
    }
   ],
   "source": [
    "from textblob import TextBlob\n",
    "\n",
    "def analyze_sentiment(user_input):\n",
    "    # Using TextBlob to analyze sentiment\n",
    "    blob = TextBlob(user_input)\n",
    "    sentiment_score = blob.sentiment.polarity  # Polarity ranges from -1 (negative) to 1 (positive)\n",
    "    return sentiment_score\n",
    "\n",
    "def negotiate_price(user_offer, current_price):\n",
    "    # Simulating a simple price negotiation logic\n",
    "    if user_offer >= current_price:\n",
    "        # User's offer is accepted\n",
    "        return {\"new_price\": user_offer, \"status\": \"accepted\"}\n",
    "    elif user_offer >= current_price * 0.9:\n",
    "        # Counteroffer with a slight discount\n",
    "        return {\"new_price\": current_price * 0.95, \"status\": \"counteroffer\"}\n",
    "    else:\n",
    "        # Offer rejected\n",
    "        return {\"new_price\": current_price, \"status\": \"rejected\"}\n",
    "\n",
    "def chatbot_negotiation_with_sentiment(user_offer, current_price, user_input):\n",
    "    # Step 1: Analyze the sentiment of the user input\n",
    "    sentiment_score = analyze_sentiment(user_input)\n",
    "    \n",
    "    # Step 2: Determine the negotiation strategy based on sentiment\n",
    "    if sentiment_score >= 0.5:\n",
    "        # Positive sentiment, offer a better deal\n",
    "        discount = 0.10  # Offer a 10% discount\n",
    "        new_price = current_price * (1 - discount)\n",
    "        chatbot_response = f\"Thanks for being polite! I can offer you a better price of ${new_price:.2f}. How does that sound?\"\n",
    "    elif sentiment_score <= -0.5:\n",
    "        # Negative sentiment, be more strict\n",
    "        chatbot_response = \"It seems like you're upset. Unfortunately, I can't offer a better deal right now.\"\n",
    "        new_price = current_price\n",
    "    else:\n",
    "        # Neutral sentiment, proceed with regular negotiation\n",
    "        chatbot_response = \"Let's negotiate the price for a product.\"\n",
    "        negotiation_result = negotiate_price(user_offer, current_price)\n",
    "        new_price = negotiation_result[\"new_price\"]  # Access \"new_price\" correctly\n",
    "    \n",
    "    # Return chatbot's response and the final price\n",
    "    return {\n",
    "        \"chatbot_response\": chatbot_response,\n",
    "        \"new_price\": new_price\n",
    "    }\n",
    "\n",
    "# Test the negotiation with sentiment analysis\n",
    "user_offer = 85  # Example user offer\n",
    "user_input = \"Hello! Can you offer a discount? I really like this product.\"  # User input\n",
    "\n",
    "current_price = 100  # Set the current price of the product\n",
    "\n",
    "# Run the negotiation with sentiment analysis\n",
    "result = chatbot_negotiation_with_sentiment(user_offer, current_price, user_input)\n",
    "\n",
    "# Display the chatbot's response and negotiation result\n",
    "print(\"Chatbot says:\", result[\"chatbot_response\"])\n",
    "print(\"Final price offered:\", result[\"new_price\"])\n"
   ]
  },
  {
   "cell_type": "code",
   "execution_count": 13,
   "id": "e031f0a7",
   "metadata": {},
   "outputs": [
    {
     "data": {
      "text/plain": [
       "{'chatbot_response': \"Let's negotiate the price for a product.\",\n",
       " 'new_price': 100}"
      ]
     },
     "execution_count": 13,
     "metadata": {},
     "output_type": "execute_result"
    }
   ],
   "source": [
    "# User's initial offer and input\n",
    "user_offer = 85  # Example user offer\n",
    "user_input = \"Hello! Can you offer a discount? I really like this product.\"\n",
    "\n",
    "# Current price of the product\n",
    "current_price = 100\n",
    "\n",
    "# Run the negotiation with sentiment analysis\n",
    "result = chatbot_negotiation_with_sentiment(user_offer, current_price, user_input)\n",
    "\n",
    "res\n",
    "\n",
    "# Display the chatbot\n"
   ]
  }
 ],
 "metadata": {
  "kernelspec": {
   "display_name": "Python 3 (ipykernel)",
   "language": "python",
   "name": "python3"
  },
  "language_info": {
   "codemirror_mode": {
    "name": "ipython",
    "version": 3
   },
   "file_extension": ".py",
   "mimetype": "text/x-python",
   "name": "python",
   "nbconvert_exporter": "python",
   "pygments_lexer": "ipython3",
   "version": "3.11.5"
  }
 },
 "nbformat": 4,
 "nbformat_minor": 5
}
